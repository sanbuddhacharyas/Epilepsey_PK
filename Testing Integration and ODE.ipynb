{
 "cells": [
  {
   "cell_type": "code",
   "execution_count": 1,
   "id": "e7f7b2cd",
   "metadata": {},
   "outputs": [
    {
     "name": "stdout",
     "output_type": "stream",
     "text": [
      "Collecting scipy\n",
      "  Downloading scipy-1.10.1-cp38-cp38-macosx_10_9_x86_64.whl (35.0 MB)\n",
      "\u001b[2K     \u001b[90m━━━━━━━━━━━━━━━━━━━━━━━━━━━━━━━━━━━━━━━━\u001b[0m \u001b[32m35.0/35.0 MB\u001b[0m \u001b[31m3.0 MB/s\u001b[0m eta \u001b[36m0:00:00\u001b[0m00:01\u001b[0m00:01\u001b[0m\n",
      "\u001b[?25hCollecting numpy<1.27.0,>=1.19.5 (from scipy)\n",
      "  Obtaining dependency information for numpy<1.27.0,>=1.19.5 from https://files.pythonhosted.org/packages/11/10/943cfb579f1a02909ff96464c69893b1d25be3731b5d3652c2e0cf1281ea/numpy-1.24.4-cp38-cp38-macosx_10_9_x86_64.whl.metadata\n",
      "  Downloading numpy-1.24.4-cp38-cp38-macosx_10_9_x86_64.whl.metadata (5.6 kB)\n",
      "Downloading numpy-1.24.4-cp38-cp38-macosx_10_9_x86_64.whl (19.8 MB)\n",
      "\u001b[2K   \u001b[90m━━━━━━━━━━━━━━━━━━━━━━━━━━━━━━━━━━━━━━━━\u001b[0m \u001b[32m19.8/19.8 MB\u001b[0m \u001b[31m4.1 MB/s\u001b[0m eta \u001b[36m0:00:00\u001b[0m00:01\u001b[0m00:01\u001b[0m\n",
      "\u001b[?25hInstalling collected packages: numpy, scipy\n",
      "Successfully installed numpy-1.24.4 scipy-1.10.1\n"
     ]
    }
   ],
   "source": [
    "!pip install scipy \n",
    "!pip install sympy"
   ]
  },
  {
   "cell_type": "code",
   "execution_count": 8,
   "id": "10d2b5c6-4caf-4cf5-99d1-754fe5889483",
   "metadata": {},
   "outputs": [],
   "source": [
    "from scipy.integrate import quad\n",
    "import sympy as smp\n",
    "import numpy as np"
   ]
  },
  {
   "cell_type": "markdown",
   "id": "e0ae8b9c-d814-4772-b4fc-8b2b93575d8d",
   "metadata": {},
   "source": [
    "Solving equation A(t),<br>\n",
    "$A(t) = k_a \\int dxa(x)J(t - \\dfrac{x}{v(x)})e^{-k_a\\int_{0}^{x}dx^{\\prime}\\dfrac{a(x^{\\prime})}{v(x^{\\prime})}})$\n",
    "\n"
   ]
  },
  {
   "cell_type": "code",
   "execution_count": 6,
   "id": "fbdeafdd-e74f-42d7-b275-89d7f0936b94",
   "metadata": {},
   "outputs": [],
   "source": [
    "# known Constants\n",
    "\n",
    "a_x = 1.0\n",
    "a_x_prime = 0.65 \n",
    "r_x = 2.5 / 100                #  unit in meter\n",
    "r_x_prime = 1.25 / 100         #  unit in meter"
   ]
  },
  {
   "cell_type": "markdown",
   "id": "e4191509-3dab-4224-89f4-3c2c72c492c9",
   "metadata": {},
   "source": [
    "Let's assume:\n",
    "\n",
    "$p(x) = e^{-k_a\\int_{0}^{x}dx^{\\prime}\\dfrac{a(x^{\\prime})}{v(x^{\\prime})}}$"
   ]
  },
  {
   "cell_type": "code",
   "execution_count": null,
   "id": "da541d6f-5c74-42bb-99ff-ae55885ada34",
   "metadata": {},
   "outputs": [],
   "source": []
  },
  {
   "cell_type": "code",
   "execution_count": 10,
   "id": "e5c988ed-dc17-4daa-b100-7e62a28a39d3",
   "metadata": {},
   "outputs": [
    {
     "data": {
      "text/plain": [
       "0.00020739420252213872"
      ]
     },
     "execution_count": 10,
     "metadata": {},
     "output_type": "execute_result"
    }
   ],
   "source": [
    "# solving p(x)\n",
    "x = 1\n",
    "f = lambda x: a_x_prime**2 * np.pi * (r_x_prime)**2\n",
    "p(x) = np.exp(quad(f, 0, 1)[0])"
   ]
  },
  {
   "cell_type": "code",
   "execution_count": null,
   "id": "30880dd2-b1c0-4e93-8e53-17278c24ab7c",
   "metadata": {},
   "outputs": [],
   "source": [
    "from scipy.integrate import odeint\n"
   ]
  },
  {
   "cell_type": "code",
   "execution_count": null,
   "id": "78405dfe-82a4-4922-82b7-bebb4efbfbf7",
   "metadata": {},
   "outputs": [],
   "source": [
    "def model(Rp,t,S):\n",
    "    k1 = 1\n",
    "    k2 = 1\n",
    "    Rt = 1\n",
    "    km1 = 0.05\n",
    "    km2 = 0.05\n",
    "    dRpdt = (k1*S*(Rt-Rp)/(km1+Rt-Rp)) - k2*Rp/(km2+Rp)\n",
    "    return dRpdt"
   ]
  },
  {
   "cell_type": "code",
   "execution_count": null,
   "id": "a5c6e6d4-0aba-4e29-a4d2-a2f1c5879d56",
   "metadata": {},
   "outputs": [],
   "source": [
    "S = 1\n",
    "Rp0 = [0,0.3,1]\n",
    "t = np.linspace(0,20,200)\n",
    "result = odeint(model,Rp0,t,args=(S,))"
   ]
  },
  {
   "cell_type": "code",
   "execution_count": null,
   "id": "e4ae83d1-6584-4efe-a95b-1a2671d7295f",
   "metadata": {},
   "outputs": [],
   "source": [
    "fig,ax = plt.subplots()\n",
    "ax.plot(t,result[:,0],label='R0=0')\n",
    "ax.plot(t,result[:,1],label='R0=0.3')\n",
    "ax.plot(t,result[:,2],label='R0=1')\n",
    "ax.legend()\n",
    "ax.set_xlabel('t')\n",
    "ax.set_ylabel('Rp')"
   ]
  }
 ],
 "metadata": {
  "kernelspec": {
   "display_name": "Python 3 (ipykernel)",
   "language": "python",
   "name": "python3"
  },
  "language_info": {
   "codemirror_mode": {
    "name": "ipython",
    "version": 3
   },
   "file_extension": ".py",
   "mimetype": "text/x-python",
   "name": "python",
   "nbconvert_exporter": "python",
   "pygments_lexer": "ipython3",
   "version": "3.8.18"
  }
 },
 "nbformat": 4,
 "nbformat_minor": 5
}
